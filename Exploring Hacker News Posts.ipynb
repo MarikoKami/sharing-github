{
 "cells": [
  {
   "cell_type": "markdown",
   "metadata": {},
   "source": [
    "# Exploring Hacker News Posts \n",
    "\n",
    "\n",
    "Hacker news is a website where posts are uploaded by users and are voted or commented by other users It is a well-known website within technology circles so if a post becomes a popular it could receive numerous views and responses. \n",
    "\n",
    "We have a data set which contains the follwing information \n",
    "- id: The unique identifier from Hacker News for the post\n",
    "- title: The title of the post\n",
    "- url: The URL that the posts links to, if it the post has a URL\n",
    "- num_points: The number of points the post acquired, calculated as the total number of upvotes minus the total number of downvotes\n",
    "- num_comments: The number of comments that were made on the post\n",
    "- author: The username of the person who submitted the post\n",
    "- created_at: The date and time at which the post was submitted\n",
    "\n",
    "There are posts with Ask HN in the title where users ask a question to the Hacker News community or Show HN in the title where users show a interesting project or a product. \n",
    "\n",
    "We would like to explore the Hacker News data set and reveal the following \n",
    "- Do Ask HN or Show HN receive comments on average?\n",
    "- On average, do the number of comments depend on the when the posts were created?"
   ]
  },
  {
   "cell_type": "markdown",
   "metadata": {},
   "source": [
    "## Extracting ASK HN and Show HN posts"
   ]
  },
  {
   "cell_type": "code",
   "execution_count": 27,
   "metadata": {},
   "outputs": [
    {
     "name": "stdout",
     "output_type": "stream",
     "text": [
      "['id', 'title', 'url', 'num_points', 'num_comments', 'author', 'created_at']\n",
      "['12224879', 'Interactive Dynamic Video', 'http://www.interactivedynamicvideo.com/', '386', '52', 'ne0phyte', '8/4/2016 11:52']\n",
      "\n",
      "\n",
      "['10975351', 'How to Use Open Source and Shut the Fuck Up at the Same Time', 'http://hueniverse.com/2016/01/26/how-to-use-open-source-and-shut-the-fuck-up-at-the-same-time/', '39', '10', 'josep2', '1/26/2016 19:30']\n",
      "\n",
      "\n",
      "['11964716', \"Florida DJs May Face Felony for April Fools' Water Joke\", 'http://www.thewire.com/entertainment/2013/04/florida-djs-april-fools-water-joke/63798/', '2', '1', 'vezycash', '6/23/2016 22:20']\n",
      "\n",
      "\n",
      "['11919867', 'Technology ventures: From Idea to Enterprise', 'https://www.amazon.com/Technology-Ventures-Enterprise-Thomas-Byers/dp/0073523429', '3', '1', 'hswarna', '6/17/2016 0:01']\n",
      "\n",
      "\n",
      "['10301696', 'Note by Note: The Making of Steinway L1037 (2007)', 'http://www.nytimes.com/2007/11/07/movies/07stein.html?_r=0', '8', '2', 'walterbell', '9/30/2015 4:12']\n",
      "\n",
      "\n"
     ]
    }
   ],
   "source": [
    "from csv import reader \n",
    "\n",
    "opened_file = open('hacker_news.csv')\n",
    "read_file = reader(opened_file)\n",
    "hacker = list(read_file)\n",
    "hacker_noheader = hacker[1:]\n",
    "hacker_header = hacker[0]\n",
    "\n",
    "print(hacker_header)\n",
    "\n",
    "for item in hacker_noheader[0:5]:\n",
    "    print(item)\n",
    "    print('\\n')"
   ]
  },
  {
   "cell_type": "code",
   "execution_count": 2,
   "metadata": {},
   "outputs": [
    {
     "name": "stdout",
     "output_type": "stream",
     "text": [
      "Number of ask HN posts:  1744\n",
      "Number of show HN posts:  1162\n",
      "Number of other posts:  17194\n"
     ]
    }
   ],
   "source": [
    "ask_posts = []\n",
    "show_posts = []\n",
    "other_posts = []\n",
    "\n",
    "for row in hacker_noheader:\n",
    "    title = row[1]\n",
    "    lowercase_title = title.lower()\n",
    "    \n",
    "    if lowercase_title.startswith('ask hn'):\n",
    "        ask_posts.append(row)\n",
    "    elif lowercase_title.startswith('show hn'):\n",
    "        show_posts.append(row)\n",
    "    else:\n",
    "        other_posts.append(row)\n",
    "        \n",
    "num_ask = len(ask_posts)\n",
    "num_show = len(show_posts)\n",
    "num_other = len(other_posts)\n",
    "print('Number of ask HN posts: ', num_ask)\n",
    "print('Number of show HN posts: ', num_show)\n",
    "print('Number of other posts: ', num_other)    "
   ]
  },
  {
   "cell_type": "markdown",
   "metadata": {},
   "source": [
    "## Calculating the average number of comments for Ask HN and Show HN posts"
   ]
  },
  {
   "cell_type": "code",
   "execution_count": 3,
   "metadata": {},
   "outputs": [
    {
     "name": "stdout",
     "output_type": "stream",
     "text": [
      "The average number of comments of ask HN post is:  14.038417431192661\n",
      "The average number of comments of show HN post is:  10.31669535283993\n"
     ]
    }
   ],
   "source": [
    "total_ask_comments = 0 \n",
    "\n",
    "for post in ask_posts:\n",
    "    num_comments = int(post[4])\n",
    "    total_ask_comments += num_comments\n",
    "    \n",
    "avg_ask_comments = total_ask_comments / num_ask\n",
    "print('The average number of comments of ask HN post is: ', avg_ask_comments)\n",
    "\n",
    "\n",
    "total_show_comments = 0 \n",
    "\n",
    "for post in show_posts:\n",
    "    num_comments = int(post[4])\n",
    "    total_show_comments += num_comments\n",
    "    \n",
    "avg_show_comments = total_show_comments / num_show\n",
    "print('The average number of comments of show HN post is: ', avg_show_comments)\n",
    "    \n"
   ]
  },
  {
   "cell_type": "markdown",
   "metadata": {},
   "source": [
    "On average, the number of comments for ask HN posts has 4 comments more. \n",
    "This is reasonable as the user is asking a question and seeking an answer from other users so other users are more likely to make a comment. \n",
    "\n",
    "Now that we established that the ask HN posts are more likely to receive comments, the analysis will focused on these posts. "
   ]
  },
  {
   "cell_type": "markdown",
   "metadata": {},
   "source": [
    "## Determining the amount of Ask posts and comments created by hour created"
   ]
  },
  {
   "cell_type": "markdown",
   "metadata": {},
   "source": [
    "Now we would like to investigate whether posts created at a certain time are more likely to attract users to make commments."
   ]
  },
  {
   "cell_type": "code",
   "execution_count": 21,
   "metadata": {
    "scrolled": true
   },
   "outputs": [
    {
     "name": "stdout",
     "output_type": "stream",
     "text": [
      "['09', 5.5777777777777775]\n",
      "['13', 14.741176470588234]\n",
      "['10', 13.440677966101696]\n",
      "['14', 13.233644859813085]\n",
      "['16', 16.796296296296298]\n",
      "['23', 7.985294117647059]\n",
      "['12', 9.41095890410959]\n",
      "['17', 11.46]\n",
      "['15', 38.5948275862069]\n",
      "['21', 16.009174311926607]\n",
      "['20', 21.525]\n",
      "['02', 23.810344827586206]\n",
      "['18', 13.20183486238532]\n",
      "['03', 7.796296296296297]\n",
      "['05', 10.08695652173913]\n",
      "['19', 10.8]\n",
      "['01', 11.383333333333333]\n",
      "['22', 6.746478873239437]\n",
      "['08', 10.25]\n",
      "['04', 7.170212765957447]\n",
      "['00', 8.127272727272727]\n",
      "['06', 9.022727272727273]\n",
      "['07', 7.852941176470588]\n",
      "['11', 11.051724137931034]\n"
     ]
    }
   ],
   "source": [
    "import datetime as dt \n",
    "\n",
    "result_list = []\n",
    "\n",
    "for post in ask_posts:\n",
    "    time_comment = [post[6], int(post[4])]\n",
    "    result_list.append(time_comment)\n",
    "    \n",
    "counts_by_hour = {}\n",
    "comments_by_hour = {}\n",
    "\n",
    "for row in result_list:\n",
    "    date_str = row[0]\n",
    "    date_time = dt.datetime.strptime(date_str, \"%m/%d/%Y %H:%M\")\n",
    "    hour_str = dt.datetime.strftime(date_time, \"%H\")\n",
    "    \n",
    "    if hour_str not in counts_by_hour:\n",
    "        counts_by_hour[hour_str] = 1\n",
    "        comments_by_hour[hour_str] = row[1]\n",
    "    else:\n",
    "        counts_by_hour[hour_str] += 1\n",
    "        comments_by_hour[hour_str] += row[1]\n",
    "\n",
    "avg_hour = []\n",
    "\n",
    "for key in comments_by_hour:\n",
    "    avg_comments_hour = comments_by_hour[key] / counts_by_hour[key]\n",
    "    avg_hour.append([key,avg_comments_hour])    \n",
    "\n",
    "for i in avg_hour:\n",
    "    print(i)"
   ]
  },
  {
   "cell_type": "code",
   "execution_count": 22,
   "metadata": {},
   "outputs": [
    {
     "name": "stdout",
     "output_type": "stream",
     "text": [
      "Top 5 hours to ask posts comment\n",
      "15:00: 38.59 average comments per post.\n",
      "02:00: 23.81 average comments per post.\n",
      "20:00: 21.52 average comments per post.\n",
      "16:00: 16.80 average comments per post.\n",
      "21:00: 16.01 average comments per post.\n"
     ]
    }
   ],
   "source": [
    "swap_avg_by_hour = []\n",
    "\n",
    "for row in avg_hour:\n",
    "    swap_avg_by_hour.append([row[1],row[0]])\n",
    "\n",
    "sorted_avg_hour = sorted(swap_avg_by_hour,reverse = True)\n",
    "\n",
    "print('Top 5 hours to ask posts comment')\n",
    "for_str = \"{}:00: {:.2f} average comments per post.\"\n",
    "\n",
    "for row in sorted_avg_hour[0:5]:\n",
    "    print(for_str.format(row[1],row[0]))"
   ]
  }
 ],
 "metadata": {
  "kernelspec": {
   "display_name": "Python 3",
   "language": "python",
   "name": "python3"
  },
  "language_info": {
   "codemirror_mode": {
    "name": "ipython",
    "version": 3
   },
   "file_extension": ".py",
   "mimetype": "text/x-python",
   "name": "python",
   "nbconvert_exporter": "python",
   "pygments_lexer": "ipython3",
   "version": "3.7.0"
  },
  "toc": {
   "base_numbering": 1,
   "nav_menu": {},
   "number_sections": true,
   "sideBar": true,
   "skip_h1_title": false,
   "title_cell": "Table of Contents",
   "title_sidebar": "Contents",
   "toc_cell": false,
   "toc_position": {
    "height": "calc(100% - 180px)",
    "left": "10px",
    "top": "150px",
    "width": "252.594px"
   },
   "toc_section_display": true,
   "toc_window_display": true
  }
 },
 "nbformat": 4,
 "nbformat_minor": 2
}
